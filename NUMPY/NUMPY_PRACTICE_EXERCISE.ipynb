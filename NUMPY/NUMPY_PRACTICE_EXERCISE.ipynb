{
 "cells": [
  {
   "cell_type": "markdown",
   "metadata": {},
   "source": [
    "# Numpy Practice with Problem"
   ]
  },
  {
   "cell_type": "markdown",
   "metadata": {},
   "source": [
    "Print Numpy version and configuration information."
   ]
  },
  {
   "cell_type": "code",
   "execution_count": 1,
   "metadata": {},
   "outputs": [
    {
     "name": "stdout",
     "output_type": "stream",
     "text": [
      "blas_mkl_info:\n",
      "  NOT AVAILABLE\n",
      "blis_info:\n",
      "  NOT AVAILABLE\n",
      "openblas_info:\n",
      "    library_dirs = ['D:\\\\a\\\\1\\\\s\\\\numpy\\\\build\\\\openblas_info']\n",
      "    libraries = ['openblas_info']\n",
      "    language = f77\n",
      "    define_macros = [('HAVE_CBLAS', None)]\n",
      "blas_opt_info:\n",
      "    library_dirs = ['D:\\\\a\\\\1\\\\s\\\\numpy\\\\build\\\\openblas_info']\n",
      "    libraries = ['openblas_info']\n",
      "    language = f77\n",
      "    define_macros = [('HAVE_CBLAS', None)]\n",
      "lapack_mkl_info:\n",
      "  NOT AVAILABLE\n",
      "openblas_lapack_info:\n",
      "    library_dirs = ['D:\\\\a\\\\1\\\\s\\\\numpy\\\\build\\\\openblas_lapack_info']\n",
      "    libraries = ['openblas_lapack_info']\n",
      "    language = f77\n",
      "    define_macros = [('HAVE_CBLAS', None)]\n",
      "lapack_opt_info:\n",
      "    library_dirs = ['D:\\\\a\\\\1\\\\s\\\\numpy\\\\build\\\\openblas_lapack_info']\n",
      "    libraries = ['openblas_lapack_info']\n",
      "    language = f77\n",
      "    define_macros = [('HAVE_CBLAS', None)]\n",
      "1.19.2 None\n"
     ]
    }
   ],
   "source": [
    "import numpy as np\n",
    "print(np.__version__,np.show_config(),end=\"\\n\")"
   ]
  },
  {
   "cell_type": "markdown",
   "metadata": {},
   "source": [
    "Create a numpy array with numbers ranging from 50 to 100.Also print attributes of\n",
    "created object."
   ]
  },
  {
   "cell_type": "code",
   "execution_count": 2,
   "metadata": {},
   "outputs": [
    {
     "data": {
      "text/plain": [
       "array([ 50,  51,  52,  53,  54,  55,  56,  57,  58,  59,  60,  61,  62,\n",
       "        63,  64,  65,  66,  67,  68,  69,  70,  71,  72,  73,  74,  75,\n",
       "        76,  77,  78,  79,  80,  81,  82,  83,  84,  85,  86,  87,  88,\n",
       "        89,  90,  91,  92,  93,  94,  95,  96,  97,  98,  99, 100])"
      ]
     },
     "execution_count": 2,
     "metadata": {},
     "output_type": "execute_result"
    }
   ],
   "source": [
    "ARR_50_100=np.arange(50,101)\n",
    "ARR_50_100"
   ]
  },
  {
   "cell_type": "markdown",
   "metadata": {},
   "source": [
    "Create a null vector of size 10."
   ]
  },
  {
   "cell_type": "code",
   "execution_count": 3,
   "metadata": {},
   "outputs": [
    {
     "data": {
      "text/plain": [
       "array([0., 0., 0., 0., 0., 0., 0., 0., 0., 0.])"
      ]
     },
     "execution_count": 3,
     "metadata": {},
     "output_type": "execute_result"
    }
   ],
   "source": [
    "NULL_VECTOR=np.zeros(10)\n",
    "NULL_VECTOR"
   ]
  },
  {
   "cell_type": "markdown",
   "metadata": {},
   "source": [
    "Create a vector of size 10 initialized with random integers with a seed equal to last four\n",
    "digits of your enrollment number."
   ]
  },
  {
   "cell_type": "code",
   "execution_count": 22,
   "metadata": {},
   "outputs": [
    {
     "data": {
      "text/plain": [
       "array([0, 1, 1, 1, 7, 0, 4, 4, 9, 5])"
      ]
     },
     "execution_count": 22,
     "metadata": {},
     "output_type": "execute_result"
    }
   ],
   "source": [
    "import random \n",
    "random.seed(7018)#for getting same number of sequence like username or password first it random but after it not ..\n",
    "SEED_ARRAY=np.array([np.random.randint(10) for i in range(10)])\n",
    "SEED_ARRAY"
   ]
  },
  {
   "cell_type": "markdown",
   "metadata": {},
   "source": [
    "Create a matrix of size 5x5 initialized with random integers with a seed equal to last four\n",
    "digits of your enrollment number."
   ]
  },
  {
   "cell_type": "code",
   "execution_count": 24,
   "metadata": {},
   "outputs": [
    {
     "data": {
      "text/plain": [
       "array([[6, 4, 6, 4, 9],\n",
       "       [1, 5, 4, 0, 8],\n",
       "       [6, 8, 6, 4, 1],\n",
       "       [2, 4, 7, 7, 3],\n",
       "       [3, 8, 1, 3, 8]])"
      ]
     },
     "execution_count": 24,
     "metadata": {},
     "output_type": "execute_result"
    }
   ],
   "source": [
    "matrix=np.array([[np.random.randint(10) for i in range(5)]for i in range(5)])\n",
    "matrix"
   ]
  },
  {
   "cell_type": "markdown",
   "metadata": {},
   "source": [
    "Create an identity matrix of size 5x5."
   ]
  },
  {
   "cell_type": "code",
   "execution_count": 25,
   "metadata": {},
   "outputs": [
    {
     "data": {
      "text/plain": [
       "array([[1., 0., 0., 0., 0.],\n",
       "       [0., 1., 0., 0., 0.],\n",
       "       [0., 0., 1., 0., 0.],\n",
       "       [0., 0., 0., 1., 0.],\n",
       "       [0., 0., 0., 0., 1.]])"
      ]
     },
     "execution_count": 25,
     "metadata": {},
     "output_type": "execute_result"
    }
   ],
   "source": [
    "IDENTITY=np.identity(5)\n",
    "IDENTITY"
   ]
  },
  {
   "cell_type": "markdown",
   "metadata": {},
   "source": [
    "Create a numpy array mat1 of size 5x2 with numbers ranging from 1 to 10."
   ]
  },
  {
   "cell_type": "code",
   "execution_count": 26,
   "metadata": {},
   "outputs": [
    {
     "data": {
      "text/plain": [
       "array([[ 1,  2],\n",
       "       [ 3,  4],\n",
       "       [ 5,  6],\n",
       "       [ 7,  8],\n",
       "       [ 9, 10]])"
      ]
     },
     "execution_count": 26,
     "metadata": {},
     "output_type": "execute_result"
    }
   ],
   "source": [
    "mat1=np.arange(1,11)\n",
    "new_mat1=mat1.reshape(5,2)\n",
    "new_mat1"
   ]
  },
  {
   "cell_type": "markdown",
   "metadata": {},
   "source": [
    "Create another numpy array mat2 of size 2x5 with floating point numbers\n",
    "between 10 to 20."
   ]
  },
  {
   "cell_type": "code",
   "execution_count": 27,
   "metadata": {},
   "outputs": [
    {
     "data": {
      "text/plain": [
       "array([[10., 11., 12., 13., 14.],\n",
       "       [15., 16., 17., 18., 19.]])"
      ]
     },
     "execution_count": 27,
     "metadata": {},
     "output_type": "execute_result"
    }
   ],
   "source": [
    "mat2=np.arange(10,20,dtype=\"float\")\n",
    "new_mat2=mat2.reshape(2,5)\n",
    "new_mat2"
   ]
  },
  {
   "cell_type": "markdown",
   "metadata": {},
   "source": [
    "Calculate the matrix product of mat1 and mat2."
   ]
  },
  {
   "cell_type": "code",
   "execution_count": 28,
   "metadata": {},
   "outputs": [
    {
     "data": {
      "text/plain": [
       "array([[ 40.,  43.,  46.,  49.,  52.],\n",
       "       [ 90.,  97., 104., 111., 118.],\n",
       "       [140., 151., 162., 173., 184.],\n",
       "       [190., 205., 220., 235., 250.],\n",
       "       [240., 259., 278., 297., 316.]])"
      ]
     },
     "execution_count": 28,
     "metadata": {},
     "output_type": "execute_result"
    }
   ],
   "source": [
    "product=new_mat1.dot(new_mat2)\n",
    "product"
   ]
  },
  {
   "cell_type": "markdown",
   "metadata": {},
   "source": [
    "Print vector containing minimum and maximum in each row of mat1."
   ]
  },
  {
   "cell_type": "code",
   "execution_count": 29,
   "metadata": {},
   "outputs": [
    {
     "name": "stdout",
     "output_type": "stream",
     "text": [
      "[1 3 5 7 9]\n",
      "[ 2  4  6  8 10]\n"
     ]
    }
   ],
   "source": [
    "min=new_mat1.min(axis=1)\n",
    "max=new_mat1.max(axis=1)\n",
    "print(min,max,sep=\"\\n\")"
   ]
  },
  {
   "cell_type": "markdown",
   "metadata": {},
   "source": [
    "Print vector containing mean and standard deviation in each column of mat2."
   ]
  },
  {
   "cell_type": "code",
   "execution_count": 30,
   "metadata": {},
   "outputs": [
    {
     "name": "stdout",
     "output_type": "stream",
     "text": [
      "[12.5 13.5 14.5 15.5 16.5]\n",
      "[2.5 2.5 2.5 2.5 2.5]\n"
     ]
    }
   ],
   "source": [
    "mean=new_mat2.mean(axis=0)\n",
    "std=new_mat2.std(axis=0)\n",
    "print(mean,std,sep=\"\\n\")"
   ]
  },
  {
   "cell_type": "markdown",
   "metadata": {},
   "source": [
    "Perform vstack and hstack on mat1 and mat2."
   ]
  },
  {
   "cell_type": "code",
   "execution_count": 31,
   "metadata": {},
   "outputs": [
    {
     "name": "stdout",
     "output_type": "stream",
     "text": [
      "vstack\n",
      "[[ 1.  2.  3.  4.  5.  6.  7.  8.  9. 10.]\n",
      " [10. 11. 12. 13. 14. 15. 16. 17. 18. 19.]]\n",
      "hstack\n",
      "[ 1.  2.  3.  4.  5.  6.  7.  8.  9. 10. 10. 11. 12. 13. 14. 15. 16. 17.\n",
      " 18. 19.]\n"
     ]
    }
   ],
   "source": [
    "vmat=np.vstack((mat1,mat2))\n",
    "hmat=np.hstack((mat1,mat2))\n",
    "print(\"vstack\",vmat,\"hstack\",hmat,sep=\"\\n\")"
   ]
  },
  {
   "cell_type": "markdown",
   "metadata": {},
   "source": [
    "Split mat1 horizontal into 2 and split mat2 vertical into 2 parts."
   ]
  },
  {
   "cell_type": "code",
   "execution_count": 32,
   "metadata": {},
   "outputs": [
    {
     "name": "stdout",
     "output_type": "stream",
     "text": [
      "[array([[1],\n",
      "       [3],\n",
      "       [5],\n",
      "       [7],\n",
      "       [9]]), array([[ 2],\n",
      "       [ 4],\n",
      "       [ 6],\n",
      "       [ 8],\n",
      "       [10]])]\n",
      "[array([[10., 11., 12., 13., 14.]]), array([[15., 16., 17., 18., 19.]])]\n"
     ]
    }
   ],
   "source": [
    "h=np.hsplit(new_mat1,2)\n",
    "v=np.vsplit(new_mat2,2)\n",
    "print(h,v,sep=\"\\n\")"
   ]
  },
  {
   "cell_type": "markdown",
   "metadata": {},
   "source": [
    "Create a vector vec of size 20 initialized with double numbers ranging from 20 to 40 and\n",
    "do the following."
   ]
  },
  {
   "cell_type": "code",
   "execution_count": 33,
   "metadata": {},
   "outputs": [
    {
     "data": {
      "text/plain": [
       "array([20., 21., 22., 23., 24., 25., 26., 27., 28., 29., 30., 31., 32.,\n",
       "       33., 34., 35., 36., 37., 38., 39.])"
      ]
     },
     "execution_count": 33,
     "metadata": {},
     "output_type": "execute_result"
    }
   ],
   "source": [
    "mat=np.arange(20,40,dtype=\"double\")\n",
    "mat"
   ]
  },
  {
   "cell_type": "markdown",
   "metadata": {},
   "source": [
    "Reshape it to a 5x4 matrix mat."
   ]
  },
  {
   "cell_type": "code",
   "execution_count": 34,
   "metadata": {},
   "outputs": [
    {
     "data": {
      "text/plain": [
       "array([[20., 21., 22., 23.],\n",
       "       [24., 25., 26., 27.],\n",
       "       [28., 29., 30., 31.],\n",
       "       [32., 33., 34., 35.],\n",
       "       [36., 37., 38., 39.]])"
      ]
     },
     "execution_count": 34,
     "metadata": {},
     "output_type": "execute_result"
    }
   ],
   "source": [
    "new_mat=mat.reshape(5,4)\n",
    "new_mat"
   ]
  },
  {
   "cell_type": "markdown",
   "metadata": {},
   "source": [
    "Print every 4th element of vec."
   ]
  },
  {
   "cell_type": "code",
   "execution_count": 35,
   "metadata": {},
   "outputs": [
    {
     "data": {
      "text/plain": [
       "array([36., 37., 38., 39.])"
      ]
     },
     "execution_count": 35,
     "metadata": {},
     "output_type": "execute_result"
    }
   ],
   "source": [
    "new_mat[:][4] #or mat[4][:]"
   ]
  },
  {
   "cell_type": "markdown",
   "metadata": {},
   "source": [
    "Print elements of vec less than or equal to 25."
   ]
  },
  {
   "cell_type": "code",
   "execution_count": 36,
   "metadata": {},
   "outputs": [
    {
     "name": "stdout",
     "output_type": "stream",
     "text": [
      "25.0\n",
      "26.0\n",
      "27.0\n",
      "28.0\n",
      "29.0\n",
      "30.0\n",
      "31.0\n",
      "32.0\n",
      "33.0\n",
      "34.0\n",
      "35.0\n",
      "36.0\n",
      "37.0\n",
      "38.0\n",
      "39.0\n"
     ]
    }
   ],
   "source": [
    "for i in range(len(new_mat)):\n",
    "    for j in range(len(new_mat[0])):\n",
    "            if new_mat[i][j]>=25:\n",
    "               print(new_mat[i][j])"
   ]
  },
  {
   "cell_type": "markdown",
   "metadata": {},
   "source": [
    "In vec assign every number at even location to 1."
   ]
  },
  {
   "cell_type": "code",
   "execution_count": 37,
   "metadata": {},
   "outputs": [
    {
     "data": {
      "text/plain": [
       "array([[ 1., 21.,  1., 23.],\n",
       "       [ 1., 25.,  1., 27.],\n",
       "       [ 1., 29.,  1., 31.],\n",
       "       [ 1., 33.,  1., 35.],\n",
       "       [ 1., 37.,  1., 39.]])"
      ]
     },
     "execution_count": 37,
     "metadata": {},
     "output_type": "execute_result"
    }
   ],
   "source": [
    "for j in range(len(new_mat)):\n",
    "    for i in range(len(new_mat[0])):\n",
    "        if new_mat[j][i]%2==0:\n",
    "            new_mat[j][i]=1\n",
    "new_mat"
   ]
  },
  {
   "cell_type": "markdown",
   "metadata": {},
   "source": [
    "In vec assign from start position to 10th position every second element to 0.Reverse elements of vec."
   ]
  },
  {
   "cell_type": "code",
   "execution_count": 38,
   "metadata": {},
   "outputs": [
    {
     "name": "stdout",
     "output_type": "stream",
     "text": [
      "[ 0. 21.  0. 23.  0. 25.  0. 27.  0. 29.  1. 31.  1. 33.  1. 35.  1. 37.\n",
      "  1. 39.]\n",
      "[39.  1. 37.  1. 35.  1. 33.  1. 31.  1. 29.  0. 27.  0. 25.  0. 23.  0.\n",
      " 21.  0.]\n"
     ]
    }
   ],
   "source": [
    "mat[:10:2]=0\n",
    "print(mat)\n",
    "rev=mat[::-1]\n",
    "print(rev)"
   ]
  },
  {
   "cell_type": "markdown",
   "metadata": {},
   "source": [
    "In mat print each row in the second column and print each column in the second\n",
    "row."
   ]
  },
  {
   "cell_type": "code",
   "execution_count": 39,
   "metadata": {},
   "outputs": [
    {
     "name": "stdout",
     "output_type": "stream",
     "text": [
      "[ 0. 25.  0. 27.]\n",
      "21.0\n",
      "25.0\n",
      "29.0\n",
      "33.0\n",
      "37.0\n"
     ]
    }
   ],
   "source": [
    "print(new_mat[0:5][1])\n",
    "for i in range(5):\n",
    "    print(new_mat[i][1])"
   ]
  },
  {
   "cell_type": "markdown",
   "metadata": {},
   "source": [
    "Apply some universal functions such as sin,sqrt,cos,exp on vec."
   ]
  },
  {
   "cell_type": "code",
   "execution_count": 40,
   "metadata": {},
   "outputs": [
    {
     "name": "stdout",
     "output_type": "stream",
     "text": [
      "[0.         0.36651914 0.         0.40142573 0.         0.43633231\n",
      " 0.         0.4712389  0.         0.50614548 0.01745329 0.54105207\n",
      " 0.01745329 0.57595865 0.01745329 0.61086524 0.01745329 0.64577182\n",
      " 0.01745329 0.68067841]\n",
      "sin: [0.         0.35836795 0.         0.39073113 0.         0.42261826\n",
      " 0.         0.4539905  0.         0.48480962 0.01745241 0.51503807\n",
      " 0.01745241 0.54463904 0.01745241 0.57357644 0.01745241 0.60181502\n",
      " 0.01745241 0.62932039]\n",
      "cos: [1.         0.93358043 1.         0.92050485 1.         0.90630779\n",
      " 1.         0.89100652 1.         0.87461971 0.9998477  0.8571673\n",
      " 0.9998477  0.83867057 0.9998477  0.81915204 0.9998477  0.79863551\n",
      " 0.9998477  0.77714596]\n",
      "sqrt \n",
      " [0.         4.58257569 0.         4.79583152 0.         5.\n",
      " 0.         5.19615242 0.         5.38516481 1.         5.56776436\n",
      " 1.         5.74456265 1.         5.91607978 1.         6.08276253\n",
      " 1.         6.244998  ]\n",
      "exp: [1.00000000e+00 1.31881573e+09 1.00000000e+00 9.74480345e+09\n",
      " 1.00000000e+00 7.20048993e+10 1.00000000e+00 5.32048241e+11\n",
      " 1.00000000e+00 3.93133430e+12 2.71828183e+00 2.90488497e+13\n",
      " 2.71828183e+00 2.14643580e+14 2.71828183e+00 1.58601345e+15\n",
      " 2.71828183e+00 1.17191424e+16 2.71828183e+00 8.65934004e+16]\n"
     ]
    }
   ],
   "source": [
    "radian=np.deg2rad(mat)\n",
    "print(radian)\n",
    "print(\"sin:\",np.sin(radian))\n",
    "print(\"cos:\",np.cos(radian))\n",
    "print(\"sqrt\",\"\\n\",np.sqrt(mat))\n",
    "print(\"exp:\",np.exp(mat))"
   ]
  },
  {
   "cell_type": "markdown",
   "metadata": {},
   "source": [
    "Print transpose and inverse of mat."
   ]
  },
  {
   "cell_type": "code",
   "execution_count": 41,
   "metadata": {},
   "outputs": [
    {
     "name": "stdout",
     "output_type": "stream",
     "text": [
      "[ 0. 21.  0. 23.  0. 25.  0. 27.  0. 29.  1. 31.  1. 33.  1. 35.  1. 37.\n",
      "  1. 39.]\n",
      "[[ 3.67352440e+14 -4.45061610e+14 -2.11934100e+14  2.89643270e+14]\n",
      " [-9.67832391e+14  1.34578154e+15  2.11934100e+14 -5.89883245e+14]\n",
      " [ 8.33607460e+14 -1.35637824e+15  2.11934100e+14  3.10836680e+14]\n",
      " [-2.33127510e+14  4.55658315e+14 -2.11934100e+14 -1.05967050e+13]]\n"
     ]
    }
   ],
   "source": [
    "t=mat.transpose()\n",
    "print(t)\n",
    "# here somehow matrix inverse does not work in this matrix it has to be square so we take another matrix for that\n",
    "inv_mat=np.arange(16,32,dtype=\"int\")\n",
    "nn=inv_mat.reshape(4,4)\n",
    "inverse=np.linalg.inv(nn)\n",
    "print(inverse)"
   ]
  },
  {
   "cell_type": "markdown",
   "metadata": {},
   "source": [
    "# Demonstrate shallow copy and deep copy."
   ]
  },
  {
   "cell_type": "markdown",
   "metadata": {},
   "source": [
    "copy in Python (Deep Copy and Shallow Copy)\n",
    "Last Updated: 10-02-2020\n",
    "In Python, Assignment statements do not copy objects, they create bindings between a target and an object. When we use = operator user thinks that this creates a new object; well, it doesn’t. It only creates a new variable that shares the reference of the original object. Sometimes a user wants to work with mutable objects, in order to do that user looks for a way to create “real copies” or “clones” of these objects. Or, sometimes a user wants copies that user can modify without automatically modifying the original at the same time, in order to do that we create copies of objects.\n",
    "\n",
    "A copy is sometimes needed so one can change one copy without changing the other. In Python, there are two ways to create copies :\n",
    "\n",
    "Deep copy\n",
    "Shallow copy\n",
    "In order to make these copy, we use copy module. We use copy module for shallow and deep copy operations. For Example"
   ]
  },
  {
   "cell_type": "code",
   "execution_count": 42,
   "metadata": {},
   "outputs": [
    {
     "name": "stdout",
     "output_type": "stream",
     "text": [
      "[1, 2, [3, 5], 4]\n"
     ]
    }
   ],
   "source": [
    "import copy \n",
    "  \n",
    "li1 = [1, 2, [3,5], 4] \n",
    "  \n",
    "  \n",
    "li2 = copy.copy(li1)  \n",
    "  \n",
    "li3 = copy.deepcopy(li1)  \n",
    "\n",
    "print(li1)"
   ]
  },
  {
   "cell_type": "markdown",
   "metadata": {},
   "source": [
    "In the above code, the copy() returns a shallow copy of list and deepcopy() return a deep copy of list."
   ]
  },
  {
   "cell_type": "markdown",
   "metadata": {},
   "source": [
    "Deep copy is a process in which the copying process occurs recursively. It means first constructing a new collection object and then recursively populating it with copies of the child objects found in the original. In case of deep copy, a copy of object is copied in other object. It means that any changes made to a copy of object do not reflect in the original object. In python, this is implemented using “deepcopy()” function."
   ]
  },
  {
   "cell_type": "code",
   "execution_count": 44,
   "metadata": {},
   "outputs": [
    {
     "name": "stdout",
     "output_type": "stream",
     "text": [
      "The original elements before deep copying\n",
      "1 2 [3, 5] 4 \r\n",
      "The new list of elements after deep copying \n",
      "1 2 [7, 5] 4 \r\n",
      "The original elements after deep copying\n",
      "1 2 [7, 5] 4 "
     ]
    }
   ],
   "source": [
    "import copy \n",
    "  \n",
    "li1 = [1, 2, [3,5], 4] \n",
    "  \n",
    "li2 = copy.deepcopy(li1) \n",
    "  \n",
    "print (\"The original elements before deep copying\") \n",
    "for i in range(0,len(li1)): \n",
    "    print (li1[i],end=\" \") \n",
    "  \n",
    "print(\"\\r\") \n",
    "  \n",
    "li2[2][0] = 7\n",
    "  \n",
    "print (\"The new list of elements after deep copying \") \n",
    "for i in range(0,len( li1)): \n",
    "    print (li2[i],end=\" \") \n",
    "  \n",
    "print(\"\\r\") \n",
    "  \n",
    "print (\"The original elements after deep copying\") \n",
    "for i in range(0,len( li1)): \n",
    "    print (li1[i],end=\" \") "
   ]
  },
  {
   "cell_type": "markdown",
   "metadata": {},
   "source": [
    "Important Points:\n",
    "The difference between shallow and deep copying is only relevant for compound objects (objects that contain other objects, like lists or class instances):\n",
    "\n",
    "A shallow copy constructs a new compound object and then (to the extent possible) inserts references into it to the objects found in the original.\n",
    "A deep copy constructs a new compound object and then, recursively, inserts copies into it of the objects found in the original."
   ]
  },
  {
   "cell_type": "code",
   "execution_count": null,
   "metadata": {},
   "outputs": [],
   "source": []
  },
  {
   "cell_type": "code",
   "execution_count": null,
   "metadata": {},
   "outputs": [],
   "source": []
  }
 ],
 "metadata": {
  "kernelspec": {
   "display_name": "Python 3",
   "language": "python",
   "name": "python3"
  },
  "language_info": {
   "codemirror_mode": {
    "name": "ipython",
    "version": 3
   },
   "file_extension": ".py",
   "mimetype": "text/x-python",
   "name": "python",
   "nbconvert_exporter": "python",
   "pygments_lexer": "ipython3",
   "version": "3.8.5"
  }
 },
 "nbformat": 4,
 "nbformat_minor": 4
}